{
  "nbformat": 4,
  "nbformat_minor": 0,
  "metadata": {
    "colab": {
      "name": "Phân_tích_dữ_liệu.ipynb",
      "provenance": [],
      "authorship_tag": "ABX9TyPmdZc71Y83UV0XmUPiv2sr",
      "include_colab_link": true
    },
    "kernelspec": {
      "name": "python3",
      "display_name": "Python 3"
    },
    "language_info": {
      "name": "python"
    }
  },
  "cells": [
    {
      "cell_type": "markdown",
      "metadata": {
        "id": "view-in-github",
        "colab_type": "text"
      },
      "source": [
        "<a href=\"https://colab.research.google.com/github/TranThiDieuHien/DO_AN_1/blob/main/Ph%C3%A2n_t%C3%ADch_d%E1%BB%AF_li%E1%BB%87u.ipynb\" target=\"_parent\"><img src=\"https://colab.research.google.com/assets/colab-badge.svg\" alt=\"Open In Colab\"/></a>"
      ]
    },
    {
      "cell_type": "code",
      "execution_count": 1,
      "metadata": {
        "colab": {
          "base_uri": "https://localhost:8080/"
        },
        "id": "39MqihO1txVd",
        "outputId": "967dccf7-02b5-48bd-ae17-22913a5338f1"
      },
      "outputs": [
        {
          "output_type": "stream",
          "name": "stderr",
          "text": [
            "/usr/local/lib/python3.7/dist-packages/statsmodels/tools/_testing.py:19: FutureWarning: pandas.util.testing is deprecated. Use the functions in the public API at pandas.testing instead.\n",
            "  import pandas.util.testing as tm\n"
          ]
        }
      ],
      "source": [
        "#import thư viện\n",
        "import numpy as np\n",
        "import pandas as pd\n",
        "import re\n",
        "from scipy import stats\n",
        "import seaborn as sns\n",
        "from matplotlib import pyplot as plt\n",
        "import statsmodels.api as sm\n",
        "from scipy.stats import chi2_contingency\n",
        "%matplotlib inline\n",
        "plt.rcParams['figure.figsize'] = [16, 9]\n",
        "plt.rcParams['figure.dpi'] = 50\n",
        "plt.rcParams.update({'font.size': 18})"
      ]
    },
    {
      "cell_type": "markdown",
      "source": [
        "HOTEL INFORMATION"
      ],
      "metadata": {
        "id": "6L7OK_CTwtfA"
      }
    },
    {
      "cell_type": "code",
      "source": [
        "#doc file\n",
        "data = pd.read_csv(\"ThuaThienHue_Infor.csv\")"
      ],
      "metadata": {
        "id": "WRv-aO45t5M0"
      },
      "execution_count": 2,
      "outputs": []
    },
    {
      "cell_type": "code",
      "source": [
        "data.sample(10)"
      ],
      "metadata": {
        "id": "nTnK2HpNxCn8"
      },
      "execution_count": null,
      "outputs": []
    },
    {
      "cell_type": "code",
      "source": [
        "data.columns.values"
      ],
      "metadata": {
        "colab": {
          "base_uri": "https://localhost:8080/"
        },
        "id": "SH9z-QIo0WsF",
        "outputId": "40fbde73-cfaf-49ee-b0f8-ecf216667002"
      },
      "execution_count": 9,
      "outputs": [
        {
          "output_type": "execute_result",
          "data": {
            "text/plain": [
              "array(['HAddress', 'HAttractions', 'HGFW', 'HImages', 'HLanguage',\n",
              "       'HName', 'HPMax', 'HPMin', 'HPRange', 'HQuestions', 'HRImages',\n",
              "       'HRNumber', 'HRank', 'HRankreview', 'HRating', 'HRestaurants',\n",
              "       'HReview', 'HRoom', 'HStyles', 'HVideos', 'URL'], dtype=object)"
            ]
          },
          "metadata": {},
          "execution_count": 9
        }
      ]
    },
    {
      "cell_type": "code",
      "source": [
        "#Tính phần trăm cho từng giá trị trong cột dữ liệu và vẽ biểu đồ trực quan barplot\n",
        "def stat_table(a, size = (10,15)):\n",
        "    x = data.groupby(a)[a].count()\n",
        "    dt = pd.DataFrame(x)\n",
        "    dt.columns = ['Percent']\n",
        "    percent = []\n",
        "    for i in dt['Percent']:\n",
        "        x = (i/len(data[a]))*100\n",
        "        percent.append(x)\n",
        "    dt['Percent'] = percent\n",
        "    print(dt)\n",
        "    mylabels = dt.index\n",
        "    fig = plt.figure(figsize = (5, 10))\n",
        "    # barplot\n",
        "    sns.barplot(percent, mylabels, data = dt, orient = 'h')"
      ],
      "metadata": {
        "id": "1zeN05quxhkS"
      },
      "execution_count": 8,
      "outputs": []
    },
    {
      "cell_type": "code",
      "source": [
        "stat_table(\"HReview\")"
      ],
      "metadata": {
        "colab": {
          "base_uri": "https://localhost:8080/",
          "height": 768
        },
        "id": "-1Vf1L9c0KjN",
        "outputId": "95c31470-190c-4977-dadf-6852b74ab28b"
      },
      "execution_count": 10,
      "outputs": [
        {
          "output_type": "stream",
          "name": "stdout",
          "text": [
            "             Percent\n",
            "HReview             \n",
            "Average     6.936416\n",
            "Excellent  34.393064\n",
            "Poor        2.601156\n",
            "Terrible    1.589595\n",
            "Very good  15.173410\n"
          ]
        },
        {
          "output_type": "stream",
          "name": "stderr",
          "text": [
            "/usr/local/lib/python3.7/dist-packages/seaborn/_decorators.py:43: FutureWarning: Pass the following variables as keyword args: x, y. From version 0.12, the only valid positional argument will be `data`, and passing other arguments without an explicit keyword will result in an error or misinterpretation.\n",
            "  FutureWarning\n"
          ]
        },
        {
          "output_type": "display_data",
          "data": {
            "text/plain": [
              "<Figure size 360x720 with 1 Axes>"
            ],
            "image/png": "[encoded data removed]"
          },
          "metadata": {
            "needs_background": "light"
          }
        }
      ]
    },
    {
      "cell_type": "markdown",
      "source": [
        "Ta thấy được rằng số lượng khách sạn được đánh giá là Excellent và Very good là rất cao, chiếm số phần trăm lớn hơn gấp nhiều lần so với Average, Poor và Terrible.\n",
        "\n",
        "=> Chứng tỏ độ thỏa mãn của khách hàng đối với đa số khách sạn ở Huế là rất cao\n",
        "\n",
        "=> Khách sạn ở Huế phù hợp để được chọn là nơi nghỉ ngơi khi đi du lịch, công tác tại Huế.\n"
      ],
      "metadata": {
        "id": "YNicXBXx0sHi"
      }
    },
    {
      "cell_type": "code",
      "source": [
        "new_data = data.dropna()\n",
        "print(new_data)"
      ],
      "metadata": {
        "id": "SJOlTvKy2wEb"
      },
      "execution_count": null,
      "outputs": []
    },
    {
      "cell_type": "code",
      "source": [
        "#Sap xep lai du lieu theo thu tu\n",
        "index = []\n",
        "print(len(new_data))\n",
        "for i in range (1, len(new_data)+1):\n",
        "    index.append(i)\n",
        "new_data[\"Index\"] = index\n",
        "index1 = new_data.set_index(\"Index\")\n",
        "new_data = index1.sort_index()\n",
        "new_data.head(10)"
      ],
      "metadata": {
        "id": "kgXCxrhB3Uwt"
      },
      "execution_count": null,
      "outputs": []
    },
    {
      "cell_type": "code",
      "source": [
        "location = []\n",
        "atc = new_data[\"HAttractions\"]\n",
        "gfw = new_data[\"HGFW\"]\n",
        "rn = new_data[\"HRestaurants\"]\n",
        "for i in range(1, len(new_data)+1):\n",
        "    loca = atc[i] + gfw[i] + rn[i]\n",
        "    location.append(loca)\n",
        "new_data[\"Location\"] = location\n",
        "print(new_data[[\"HName\", \"Location\"]].sample(10))"
      ],
      "metadata": {
        "id": "jyoUXh-X1Rlx"
      },
      "execution_count": null,
      "outputs": []
    },
    {
      "cell_type": "markdown",
      "source": [
        "Phát biểu giả thuyết\n",
        "- $$H_{0}: \\mu_{0} = \\mu_{1}$$\n",
        "    Giá tiền tỉ lệ thuận với số lượng địa điểm vui chơi, ăn uống\n",
        "- $$H_{1}: \\mu_{0} <> \\mu_{1}$$\n",
        "    Giá tiền không tỉ lệ thuận với số lượng địa điểm vui chơi, ăn uống"
      ],
      "metadata": {
        "id": "5IJi_xjS4byD"
      }
    },
    {
      "cell_type": "code",
      "source": [
        "for i in range(1, len(new_data)+1):\n",
        "      new_data[\"HPMax\"][i] = int(new_data[\"HPMax\"][i])\n",
        "      new_data[\"Location\"][i] = int(new_data[\"Location\"][i] )\n",
        "stat, p_value = stats.ttest_ind(new_data[\"HPMax\"], new_data[\"Location\"])\n",
        "print('Stat =', stat, 'P_value =', p_value)\n",
        "if p_value < 0.05:\n",
        "    print('''Có bằng chứng thống kê để bác bỏ giả thuyết H0. Điều này ngụ ý rằng\n",
        "          giá tiền khách sạn không tỉ lệ thuận với số lượng địa điểm vui chơi, ăn uống gần khách sạn''')\n",
        "else:\n",
        "    print('''Chưa có bằng chứng thống kê để bác bỏ giả thuyết H0. Điều này ngụ ý rằng\n",
        "          giá tiền khách sạn tỉ lệ thuận với số lượng địa điểm vui chơi, ăn uống gần khách sạn''')"
      ],
      "metadata": {
        "id": "EJf9g7G34bIY"
      },
      "execution_count": null,
      "outputs": []
    },
    {
      "cell_type": "markdown",
      "source": [
        "HOTEL REVIEW COMMENTS"
      ],
      "metadata": {
        "id": "o-ZypTxXw_6l"
      }
    },
    {
      "cell_type": "code",
      "source": [
        "#doc file\n",
        "data_comment = pd.read_csv(\"ThuaThienHue.csv\")"
      ],
      "metadata": {
        "id": "mGfja-5oxNwo"
      },
      "execution_count": 4,
      "outputs": []
    },
    {
      "cell_type": "code",
      "source": [
        "data_comment.sample(4)"
      ],
      "metadata": {
        "id": "ZEvdBYwHxPx6"
      },
      "execution_count": null,
      "outputs": []
    },
    {
      "cell_type": "code",
      "source": [
        ""
      ],
      "metadata": {
        "id": "IEaLlzi1xi0q"
      },
      "execution_count": null,
      "outputs": []
    },
    {
      "cell_type": "markdown",
      "source": [
        "REVIEW HOTEL COMMENTS VIETNAMESE"
      ],
      "metadata": {
        "id": "kym0rcWjxSK8"
      }
    },
    {
      "cell_type": "code",
      "source": [
        "#doc file\n",
        "data_comment_viet = pd.read_csv(\"ThuaThienHue_cmt_Viet.csv\")"
      ],
      "metadata": {
        "id": "vpjDipywxbOE"
      },
      "execution_count": 6,
      "outputs": []
    },
    {
      "cell_type": "code",
      "source": [
        "data_comment_viet.sample(4)"
      ],
      "metadata": {
        "id": "Beb5P2TsxReC"
      },
      "execution_count": null,
      "outputs": []
    },
    {
      "cell_type": "code",
      "source": [
        ""
      ],
      "metadata": {
        "id": "Llorshk_xj_a"
      },
      "execution_count": null,
      "outputs": []
    }
  ]
}