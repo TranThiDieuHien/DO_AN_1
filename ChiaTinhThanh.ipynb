{
  "nbformat": 4,
  "nbformat_minor": 0,
  "metadata": {
    "colab": {
      "name": "ChiaTinhThanh-1.ipynb",
      "provenance": [],
      "collapsed_sections": [],
      "include_colab_link": true
    },
    "kernelspec": {
      "name": "python3",
      "display_name": "Python 3"
    },
    "language_info": {
      "name": "python"
    }
  },
  "cells": [
    {
      "cell_type": "markdown",
      "metadata": {
        "id": "view-in-github",
        "colab_type": "text"
      },
      "source": [
        "<a href=\"https://colab.research.google.com/github/TranThiDieuHien/DO_AN_1/blob/main/ChiaTinhThanh.ipynb\" target=\"_parent\"><img src=\"https://colab.research.google.com/assets/colab-badge.svg\" alt=\"Open In Colab\"/></a>"
      ]
    },
    {
      "cell_type": "code",
      "execution_count": null,
      "metadata": {
        "id": "HHBTzqn7BW_x"
      },
      "outputs": [],
      "source": [
        "import pandas as pd"
      ]
    },
    {
      "cell_type": "code",
      "source": [
        "df = pd.read_csv('InforData.csv')\n",
        "df_1 = df.copy()\n"
      ],
      "metadata": {
        "id": "EI0c886uBbN2"
      },
      "execution_count": null,
      "outputs": []
    },
    {
      "cell_type": "code",
      "source": [
        "# tạo Def để lấy ra một DataFrame chứa tỉnh thành cần chọn\n",
        "def divide(A): # A là tỉnh thành\n",
        "  df_3 = df_1.copy()\n",
        "  a = []\n",
        "  for i in range(len(df_3)):\n",
        "    isA = True\n",
        "    x = df_3['URL'].iloc[i]       ##Đổi 'URL' thành 'hurl\" để crawl phần review\n",
        "    if A not in x:\n",
        "        isA = False\n",
        "    if isA == False:\n",
        "      a.append(i)       # Cho các index không chứa tỉnh thành cần chọn vào một list\n",
        "  newA = df_3.drop(a)   # Xoá các dòng không chứa tỉnh thành cần chọn\n",
        "  return newA           # Trả ra một dataframe chứa tỉnh thành được chọn"
      ],
      "metadata": {
        "id": "-IrfTrgoyS6p"
      },
      "execution_count": null,
      "outputs": []
    },
    {
      "cell_type": "code",
      "source": [
        "HaNoi = divide('Hanoi.html')\n",
        "HaNoi.to_csv('Hanoi.csv', index = False)"
      ],
      "metadata": {
        "id": "XGE0jA0eDvVl"
      },
      "execution_count": null,
      "outputs": []
    },
    {
      "cell_type": "code",
      "source": [
        "ThuaThienHue = divide('Thua_Thien_Hue_Province.html')\n",
        "ThuaThienHue.to_csv('ThuaThienHue.csv', index = False)"
      ],
      "metadata": {
        "id": "KBLTyXaDHHz1"
      },
      "execution_count": null,
      "outputs": []
    },
    {
      "cell_type": "code",
      "source": [
        "DaNang = divide('Da_Nang.html')\n",
        "DaNang.to_csv('DaNang.csv', index = False)"
      ],
      "metadata": {
        "id": "a4uQhYENEFSb"
      },
      "execution_count": null,
      "outputs": []
    },
    {
      "cell_type": "code",
      "source": [
        "QuangNam = divide('Quang_Nam_Province.html')\n",
        "QuangNam.to_csv('QuangNam.csv', index = False)"
      ],
      "metadata": {
        "id": "TzzCvOPhHggj"
      },
      "execution_count": null,
      "outputs": []
    },
    {
      "cell_type": "code",
      "source": [
        "LamDong = divide('Lam_Dong_Province.html')\n",
        "LamDong.to_csv('LamDong.csv', index = False)"
      ],
      "metadata": {
        "id": "aMVyWBplHzqO"
      },
      "execution_count": null,
      "outputs": []
    },
    {
      "cell_type": "code",
      "source": [
        "HoChiMinh = divide('Ho_Chi_Minh_City.html')\n",
        "HoChiMinh.to_csv('HoChiMinh.csv', index = False)"
      ],
      "metadata": {
        "id": "FyjmtHDvG89z"
      },
      "execution_count": null,
      "outputs": []
    },
    {
      "cell_type": "code",
      "source": [
        "pd.read_csv('DaNang.csv')"
      ],
      "metadata": {
        "id": "SX9OgcoS-Df8"
      },
      "execution_count": null,
      "outputs": []
    }
  ]
}