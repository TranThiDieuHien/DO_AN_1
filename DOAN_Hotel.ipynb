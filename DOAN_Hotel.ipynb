{
  "nbformat": 4,
  "nbformat_minor": 0,
  "metadata": {
    "colab": {
      "name": "DOAN_HInfor.ipynb",
      "provenance": [],
      "authorship_tag": "ABX9TyPOLXfswdbymvRneAiEDXA4",
      "include_colab_link": true
    },
    "kernelspec": {
      "name": "python3",
      "display_name": "Python 3"
    },
    "language_info": {
      "name": "python"
    }
  },
  "cells": [
    {
      "cell_type": "markdown",
      "metadata": {
        "id": "view-in-github",
        "colab_type": "text"
      },
      "source": [
        "<a href=\"https://colab.research.google.com/github/TranThiDieuHien/DO_AN_1/blob/main/DOAN_Hotel.ipynb\" target=\"_parent\"><img src=\"https://colab.research.google.com/assets/colab-badge.svg\" alt=\"Open In Colab\"/></a>"
      ]
    },
    {
      "cell_type": "code",
      "execution_count": 3,
      "metadata": {
        "id": "F8T3VInpiJiO",
        "outputId": "d4f709a6-fe4a-4300-808d-0cce6389799f",
        "colab": {
          "base_uri": "https://localhost:8080/"
        }
      },
      "outputs": [
        {
          "output_type": "stream",
          "name": "stderr",
          "text": [
            "/usr/local/lib/python3.7/dist-packages/statsmodels/tools/_testing.py:19: FutureWarning: pandas.util.testing is deprecated. Use the functions in the public API at pandas.testing instead.\n",
            "  import pandas.util.testing as tm\n"
          ]
        }
      ],
      "source": [
        "#import thư viện\n",
        "import numpy as np\n",
        "import pandas as pd\n",
        "import re\n",
        "from scipy import stats\n",
        "import seaborn as sns\n",
        "from matplotlib import pyplot as plt\n",
        "import statsmodels.api as sm\n",
        "from scipy.stats import chi2_contingency\n",
        "%matplotlib inline\n",
        "plt.rcParams['figure.figsize'] = [16, 9]\n",
        "plt.rcParams['figure.dpi'] = 50\n",
        "plt.rcParams.update({'font.size': 18})"
      ]
    },
    {
      "cell_type": "markdown",
      "source": [
        "HOTEL INFORMATION"
      ],
      "metadata": {
        "id": "IgihO_n5dhUC"
      }
    },
    {
      "cell_type": "code",
      "source": [
        "#doc file\n",
        "data = pd.read_csv(\"ThuaThienHue_Infor.csv\")\n"
      ],
      "metadata": {
        "id": "tZYgMEqJiOh-"
      },
      "execution_count": 4,
      "outputs": []
    },
    {
      "cell_type": "code",
      "source": [
        "data.sample(2)"
      ],
      "metadata": {
        "id": "Rp5IUxGti7pM"
      },
      "execution_count": null,
      "outputs": []
    },
    {
      "cell_type": "code",
      "source": [
        "#Thong ke co ban cac du lieu cua tap du\n",
        "data[\"HRNumber\"] = pd.to_numeric(data[\"HRNumber\"], errors='coerce')\n",
        "data[\"HRoom\"] = pd.to_numeric(data[\"HRoom\"], errors='coerce')"
      ],
      "metadata": {
        "id": "3eKUk2J6iNrs"
      },
      "execution_count": 5,
      "outputs": []
    },
    {
      "cell_type": "code",
      "source": [
        "data.describe()"
      ],
      "metadata": {
        "id": "Do7gWZapoYp-"
      },
      "execution_count": null,
      "outputs": []
    },
    {
      "cell_type": "code",
      "source": [
        "HAttractions = data[\"HAttractions\"]\n",
        "HGFW = data[\"HGFW\"]\n",
        "HImages = data[\"HImages\"]\n",
        "HRImages = data[\"HRImages\"]\n",
        "HRNumber = data[\"HRNumber\"]\n",
        "HRankreview = data[\"HRankreview\"]\n",
        "HRating = data[\"HRating\"]\n",
        "HRestaurants = data[\"HRestaurants\"]\n",
        "HRoom = data[\"HRoom\"]\n",
        "HVideos = data[\"HVideos\"]"
      ],
      "metadata": {
        "id": "gAyjVcSGNJYK"
      },
      "execution_count": 7,
      "outputs": []
    },
    {
      "cell_type": "code",
      "source": [
        "import statistics as sta\n",
        "#Tính mode\n",
        "print(sta.mode(HGFW))\n",
        "print(sta.mode(HAttractions))\n",
        "print(sta.mode(HImages))\n",
        "print(sta.mode(HRImages))\n",
        "print(sta.mode(HRNumber))\n",
        "print(sta.mode(HRankreview))\n",
        "print(sta.mode(HRating))\n",
        "print(sta.mode(HRestaurants))\n",
        "print(sta.mode(HRoom))\n",
        "print(sta.mode(HVideos))"
      ],
      "metadata": {
        "id": "sTXVEeU6imBo"
      },
      "execution_count": null,
      "outputs": []
    },
    {
      "cell_type": "code",
      "source": [
        "#Tính median\n",
        "print(sta.median(HGFW))\n",
        "print(sta.median(HAttractions))\n",
        "print(sta.median(HImages))\n",
        "print(sta.median(HRImages))\n",
        "print(sta.median(HRNumber))\n",
        "print(sta.median(HRankreview))\n",
        "print(sta.median(HRating))\n",
        "print(sta.median(HRestaurants))\n",
        "print(sta.median(HRoom))\n",
        "print(sta.median(HVideos))"
      ],
      "metadata": {
        "id": "59y8eROrPPvq"
      },
      "execution_count": null,
      "outputs": []
    },
    {
      "cell_type": "code",
      "source": [
        "#Tính số dữ liệu trống (null)\n",
        "data.isna().sum()"
      ],
      "metadata": {
        "id": "bLx_M-59PiLK"
      },
      "execution_count": null,
      "outputs": []
    },
    {
      "cell_type": "code",
      "source": [
        "import missingno as msno\n",
        "msno.bar(data)"
      ],
      "metadata": {
        "id": "Xhj5ium2208N",
        "outputId": "d81f5110-9472-4be9-c6da-78dfc8165870",
        "colab": {
          "base_uri": "https://localhost:8080/",
          "height": 474
        }
      },
      "execution_count": 12,
      "outputs": [
        {
          "output_type": "execute_result",
          "data": {
            "text/plain": [
              "<matplotlib.axes._subplots.AxesSubplot at 0x7f271d88e550>"
            ]
          },
          "metadata": {},
          "execution_count": 12
        },
        {
          "output_type": "display_data",
          "data": {
            "text/plain": [
              "<Figure size 1250x500 with 3 Axes>"
            ],
            "image/png": "[encoded data removed]"
          },
          "metadata": {
            "needs_background": "light"
          }
        }
      ]
    },
    {
      "cell_type": "markdown",
      "source": [
        "HOTEL REVIEW COMMENTS"
      ],
      "metadata": {
        "id": "a6TO49tIdXd2"
      }
    },
    {
      "cell_type": "code",
      "source": [
        "#doc file\n",
        "data_comment = pd.read_csv(\"ThuaThienHue.csv\")"
      ],
      "metadata": {
        "id": "vKpekM5UQ1Bc"
      },
      "execution_count": null,
      "outputs": []
    },
    {
      "cell_type": "code",
      "source": [
        "data_comment.sample(4)"
      ],
      "metadata": {
        "id": "Y67xaKiTd5YU"
      },
      "execution_count": null,
      "outputs": []
    },
    {
      "cell_type": "code",
      "source": [
        "#Xem thong tin cua dataframe\n",
        "data_comment.info()"
      ],
      "metadata": {
        "id": "uWmjfoGLd77L"
      },
      "execution_count": null,
      "outputs": []
    },
    {
      "cell_type": "code",
      "source": [
        "#Dem so phan tram tung xep loai tu 1-5 sao\n",
        "data_comment[\"HTravelerRating\"].value_counts(normalize = True)"
      ],
      "metadata": {
        "id": "ScYs7TikeRmW"
      },
      "execution_count": null,
      "outputs": []
    },
    {
      "cell_type": "code",
      "source": [
        "#Tao cot thang luu tru tu cot ngay luu tru\n",
        "data_comment[\"Month of stay\"] = data_comment[\"HDate\"].apply(lambda x: \"\".join(re.findall(r'(Jan(?:uary)?|Feb(?:ruary)?|Mar(?:ch)?|Apr(?:il)?|May|Jun(?:e)?|Jul(?:y)?|Aug(?:ust)?|Sep(?:tember)?|Oct(?:ober)?|Nov(?:ember)?|Dec(?:ember)?)', str(x))))\n",
        "data_comment"
      ],
      "metadata": {
        "id": "_y8ZCuFygZz3"
      },
      "execution_count": null,
      "outputs": []
    },
    {
      "cell_type": "code",
      "source": [
        "# Dem so chu\n",
        "data_comment[\"Word_count\"] = data_comment[\"HComment\"].apply(lambda x: len(str(x).split()))\n",
        "data_comment.head()"
      ],
      "metadata": {
        "id": "-C3kPl6zjLiW"
      },
      "execution_count": null,
      "outputs": []
    },
    {
      "cell_type": "code",
      "source": [
        "month =['Jan', 'Feb', 'Mar', 'Apr', 'May', 'Jun', 'Jul', 'Aug', 'Sep', 'Oct', 'Nov', 'Dec']\n",
        "sns.despine()\n",
        "sns.countplot(x=\"Month of stay\", data=data_comment, order=month, color='#C88BD9');"
      ],
      "metadata": {
        "colab": {
          "base_uri": "https://localhost:8080/",
          "height": 400
        },
        "id": "QklaMKnLj9Bi",
        "outputId": "a2d6305b-13cc-4589-f40f-f7e51b50008e"
      },
      "execution_count": null,
      "outputs": [
        {
          "output_type": "display_data",
          "data": {
            "text/plain": [
              "<Figure size 800x450 with 1 Axes>"
            ],
            "image/png": "[encoded data removed]"
          },
          "metadata": {
            "needs_background": "light"
          }
        }
      ]
    },
    {
      "cell_type": "markdown",
      "source": [
        "REVIEW HOTEL COMMENTS VIETNAMESE"
      ],
      "metadata": {
        "id": "msbN2NKgmgmg"
      }
    },
    {
      "cell_type": "code",
      "source": [
        "#doc file\n",
        "data_comment_viet = pd.read_csv(\"ThuaThienHue_cmt_Viet.csv\")"
      ],
      "metadata": {
        "id": "k_zJpNJmmk_4"
      },
      "execution_count": null,
      "outputs": []
    },
    {
      "cell_type": "code",
      "source": [
        "#Dem so phan tram tung xep loai tu 1-5 sao\n",
        "data_comment_viet[\"HTravelerRating\"].value_counts(normalize = True)"
      ],
      "metadata": {
        "colab": {
          "base_uri": "https://localhost:8080/"
        },
        "id": "8g1vqdVZmr6V",
        "outputId": "466f71ec-d004-4f7c-c04b-d86a8513214c"
      },
      "execution_count": null,
      "outputs": [
        {
          "output_type": "execute_result",
          "data": {
            "text/plain": [
              "5.0    0.701970\n",
              "4.0    0.155524\n",
              "3.0    0.066854\n",
              "1.0    0.049613\n",
              "2.0    0.026038\n",
              "Name: HTravelerRating, dtype: float64"
            ]
          },
          "metadata": {},
          "execution_count": 108
        }
      ]
    },
    {
      "cell_type": "code",
      "source": [
        "#Tao cot thang luu tru tu cot ngay luu tru\n",
        "\n",
        "#####Đang lỗi\n",
        "data_comment_viet[\"Month of stay\"] = data_comment_viet[\"HDate\"].apply(lambda x: \"\".join(re.findall(r'(Tháng 1|Tháng 2|Tháng 3|Tháng 4|Tháng 5/|Tháng 6|Tháng 7|Tháng 8|Tháng 9|Tháng 10|Tháng 11|Tháng 12)', str(x))))\n",
        "data_comment_viet.sample(5)\n",
        "\n",
        "####Đang lỗi"
      ],
      "metadata": {
        "id": "O9thuBf1mvfJ"
      },
      "execution_count": null,
      "outputs": []
    },
    {
      "cell_type": "code",
      "source": [
        "data_comment_viet[\"Year of stay\"] = data_comment_viet[\"HDate\"].apply(lambda x: \"\".join(re.findall(\"\\d\\d\\d\\d\", str(x))))\n",
        "data_comment_viet"
      ],
      "metadata": {
        "id": "BEsCCNevywYZ"
      },
      "execution_count": null,
      "outputs": []
    },
    {
      "cell_type": "code",
      "source": [
        "data_comment_viet[\"Year of stay\"].unique()"
      ],
      "metadata": {
        "colab": {
          "base_uri": "https://localhost:8080/"
        },
        "id": "jVIevwTw2B4d",
        "outputId": "1aeb6254-aeec-4c3e-c48d-e189b9279f32"
      },
      "execution_count": null,
      "outputs": [
        {
          "output_type": "execute_result",
          "data": {
            "text/plain": [
              "array(['', '2018', '2017', '2022', '2020', '2016', '2014', '2019', '2015',\n",
              "       '2021', '2013'], dtype=object)"
            ]
          },
          "metadata": {},
          "execution_count": 143
        }
      ]
    },
    {
      "cell_type": "code",
      "source": [
        "# Dem so chu\n",
        "data_comment_viet[\"Word_count\"] = data_comment_viet[\"HComment\"].apply(lambda x: len(str(x).split()))\n",
        "data_comment_viet.head()"
      ],
      "metadata": {
        "id": "FAwX1xzYmxMu"
      },
      "execution_count": null,
      "outputs": []
    },
    {
      "cell_type": "code",
      "source": [
        "# Plotting number of reviews for each year\n",
        "plt.figure(figsize = (24, 5))\n",
        "years = ['', '2018', '2017', '2022', '2020', '2016', '2014', '2019', '2015',\n",
        "       '2021', '2013']\n",
        "sns.despine()\n",
        "sns.countplot(x=\"Year of stay\", data=data_comment_viet, order=years, color='#FB8E7E');"
      ],
      "metadata": {
        "colab": {
          "base_uri": "https://localhost:8080/",
          "height": 239
        },
        "id": "dPaBVw4umzNh",
        "outputId": "d134c7cf-05b1-47a7-b56b-9766a94bd3f7"
      },
      "execution_count": null,
      "outputs": [
        {
          "output_type": "display_data",
          "data": {
            "text/plain": [
              "<Figure size 1200x250 with 1 Axes>"
            ],
            "image/png": "[encoded data removed]"
          },
          "metadata": {
            "needs_background": "light"
          }
        }
      ]
    }
  ]
}